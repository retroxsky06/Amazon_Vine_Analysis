{
 "cells": [
  {
   "cell_type": "markdown",
   "id": "5d0efcac",
   "metadata": {},
   "source": [
    "### Deliverable 2 Challenge"
   ]
  },
  {
   "cell_type": "code",
   "execution_count": 1,
   "id": "4ad51191",
   "metadata": {},
   "outputs": [],
   "source": [
    "import pandas as pd"
   ]
  },
  {
   "cell_type": "code",
   "execution_count": 3,
   "id": "9e8a9887",
   "metadata": {},
   "outputs": [],
   "source": [
    "# read in the vine_table.csv as a DataFrame\n",
    "vine_df = pd.read_csv(\"vine_table.csv\")"
   ]
  },
  {
   "cell_type": "code",
   "execution_count": 6,
   "id": "c8cfe4e8",
   "metadata": {},
   "outputs": [
    {
     "data": {
      "text/html": [
       "<div>\n",
       "<style scoped>\n",
       "    .dataframe tbody tr th:only-of-type {\n",
       "        vertical-align: middle;\n",
       "    }\n",
       "\n",
       "    .dataframe tbody tr th {\n",
       "        vertical-align: top;\n",
       "    }\n",
       "\n",
       "    .dataframe thead th {\n",
       "        text-align: right;\n",
       "    }\n",
       "</style>\n",
       "<table border=\"1\" class=\"dataframe\">\n",
       "  <thead>\n",
       "    <tr style=\"text-align: right;\">\n",
       "      <th></th>\n",
       "      <th>review_id</th>\n",
       "      <th>star_rating</th>\n",
       "      <th>helpful_votes</th>\n",
       "      <th>total_votes</th>\n",
       "      <th>vine</th>\n",
       "      <th>verified_purchase</th>\n",
       "    </tr>\n",
       "  </thead>\n",
       "  <tbody>\n",
       "    <tr>\n",
       "      <th>0</th>\n",
       "      <td>R2SMZOBU8XC40Z</td>\n",
       "      <td>5.0</td>\n",
       "      <td>0.0</td>\n",
       "      <td>0.0</td>\n",
       "      <td>N</td>\n",
       "      <td>N</td>\n",
       "    </tr>\n",
       "    <tr>\n",
       "      <th>1</th>\n",
       "      <td>RMV2PRHL0JYFF</td>\n",
       "      <td>5.0</td>\n",
       "      <td>13.0</td>\n",
       "      <td>15.0</td>\n",
       "      <td>N</td>\n",
       "      <td>N</td>\n",
       "    </tr>\n",
       "    <tr>\n",
       "      <th>2</th>\n",
       "      <td>R2FLUFWNKEN2XP</td>\n",
       "      <td>5.0</td>\n",
       "      <td>12.0</td>\n",
       "      <td>12.0</td>\n",
       "      <td>N</td>\n",
       "      <td>N</td>\n",
       "    </tr>\n",
       "    <tr>\n",
       "      <th>3</th>\n",
       "      <td>R3ELQEO79BFTU3</td>\n",
       "      <td>5.0</td>\n",
       "      <td>0.0</td>\n",
       "      <td>1.0</td>\n",
       "      <td>N</td>\n",
       "      <td>N</td>\n",
       "    </tr>\n",
       "    <tr>\n",
       "      <th>4</th>\n",
       "      <td>R2V5Z367106CRP</td>\n",
       "      <td>3.0</td>\n",
       "      <td>2.0</td>\n",
       "      <td>3.0</td>\n",
       "      <td>N</td>\n",
       "      <td>Y</td>\n",
       "    </tr>\n",
       "  </tbody>\n",
       "</table>\n",
       "</div>"
      ],
      "text/plain": [
       "        review_id  star_rating  helpful_votes  total_votes vine  \\\n",
       "0  R2SMZOBU8XC40Z          5.0            0.0          0.0    N   \n",
       "1   RMV2PRHL0JYFF          5.0           13.0         15.0    N   \n",
       "2  R2FLUFWNKEN2XP          5.0           12.0         12.0    N   \n",
       "3  R3ELQEO79BFTU3          5.0            0.0          1.0    N   \n",
       "4  R2V5Z367106CRP          3.0            2.0          3.0    N   \n",
       "\n",
       "  verified_purchase  \n",
       "0                 N  \n",
       "1                 N  \n",
       "2                 N  \n",
       "3                 N  \n",
       "4                 Y  "
      ]
     },
     "execution_count": 6,
     "metadata": {},
     "output_type": "execute_result"
    }
   ],
   "source": [
    "vine_df.head(5)"
   ]
  },
  {
   "cell_type": "code",
   "execution_count": 7,
   "id": "39e1d5d2",
   "metadata": {},
   "outputs": [],
   "source": [
    "# 1. filter data and create a new df to retrieve all the rows where \n",
    "# the total_votes count is equal to or greater than 20 \n",
    "vine_filtered_high_votes_df = vine_df[vine_df[\"total_votes\"] >=20]"
   ]
  },
  {
   "cell_type": "code",
   "execution_count": 8,
   "id": "b2c80412",
   "metadata": {},
   "outputs": [
    {
     "data": {
      "text/html": [
       "<div>\n",
       "<style scoped>\n",
       "    .dataframe tbody tr th:only-of-type {\n",
       "        vertical-align: middle;\n",
       "    }\n",
       "\n",
       "    .dataframe tbody tr th {\n",
       "        vertical-align: top;\n",
       "    }\n",
       "\n",
       "    .dataframe thead th {\n",
       "        text-align: right;\n",
       "    }\n",
       "</style>\n",
       "<table border=\"1\" class=\"dataframe\">\n",
       "  <thead>\n",
       "    <tr style=\"text-align: right;\">\n",
       "      <th></th>\n",
       "      <th>review_id</th>\n",
       "      <th>star_rating</th>\n",
       "      <th>helpful_votes</th>\n",
       "      <th>total_votes</th>\n",
       "      <th>vine</th>\n",
       "      <th>verified_purchase</th>\n",
       "    </tr>\n",
       "  </thead>\n",
       "  <tbody>\n",
       "    <tr>\n",
       "      <th>15</th>\n",
       "      <td>RYQ1DA2DLM317</td>\n",
       "      <td>3.0</td>\n",
       "      <td>16.0</td>\n",
       "      <td>20.0</td>\n",
       "      <td>N</td>\n",
       "      <td>N</td>\n",
       "    </tr>\n",
       "    <tr>\n",
       "      <th>23</th>\n",
       "      <td>RPN1LQNKSWSNV</td>\n",
       "      <td>1.0</td>\n",
       "      <td>16.0</td>\n",
       "      <td>61.0</td>\n",
       "      <td>N</td>\n",
       "      <td>N</td>\n",
       "    </tr>\n",
       "    <tr>\n",
       "      <th>33</th>\n",
       "      <td>R370HMS192JCS4</td>\n",
       "      <td>5.0</td>\n",
       "      <td>27.0</td>\n",
       "      <td>28.0</td>\n",
       "      <td>N</td>\n",
       "      <td>N</td>\n",
       "    </tr>\n",
       "    <tr>\n",
       "      <th>34</th>\n",
       "      <td>R2WQFN3ISS99J6</td>\n",
       "      <td>5.0</td>\n",
       "      <td>23.0</td>\n",
       "      <td>24.0</td>\n",
       "      <td>N</td>\n",
       "      <td>N</td>\n",
       "    </tr>\n",
       "    <tr>\n",
       "      <th>36</th>\n",
       "      <td>R1F4T7XR41ON6Q</td>\n",
       "      <td>5.0</td>\n",
       "      <td>16.0</td>\n",
       "      <td>31.0</td>\n",
       "      <td>N</td>\n",
       "      <td>N</td>\n",
       "    </tr>\n",
       "  </tbody>\n",
       "</table>\n",
       "</div>"
      ],
      "text/plain": [
       "         review_id  star_rating  helpful_votes  total_votes vine  \\\n",
       "15   RYQ1DA2DLM317          3.0           16.0         20.0    N   \n",
       "23   RPN1LQNKSWSNV          1.0           16.0         61.0    N   \n",
       "33  R370HMS192JCS4          5.0           27.0         28.0    N   \n",
       "34  R2WQFN3ISS99J6          5.0           23.0         24.0    N   \n",
       "36  R1F4T7XR41ON6Q          5.0           16.0         31.0    N   \n",
       "\n",
       "   verified_purchase  \n",
       "15                 N  \n",
       "23                 N  \n",
       "33                 N  \n",
       "34                 N  \n",
       "36                 N  "
      ]
     },
     "execution_count": 8,
     "metadata": {},
     "output_type": "execute_result"
    }
   ],
   "source": [
    "vine_filtered_high_votes_df.head(5)"
   ]
  },
  {
   "cell_type": "code",
   "execution_count": 12,
   "id": "dd247743",
   "metadata": {},
   "outputs": [],
   "source": [
    "# 2. filter df from Step 1 and create a new df to retrieve all the rows where \n",
    "# the number of helpful_votes divided by total_votes is equal to or greater than 50%.\n",
    "helpful_votes_filtered = vine_filtered_high_votes_df[\"helpful_votes\"]\n",
    "total_votes_filtered = vine_filtered_high_votes_df[\"total_votes\"]\n",
    "fifty_percent_helpful_df = vine_filtered_high_votes_df[(helpful_votes_filtered/total_votes_filtered) >= .50]"
   ]
  },
  {
   "cell_type": "code",
   "execution_count": 41,
   "id": "0f62a64a",
   "metadata": {},
   "outputs": [
    {
     "data": {
      "text/html": [
       "<div>\n",
       "<style scoped>\n",
       "    .dataframe tbody tr th:only-of-type {\n",
       "        vertical-align: middle;\n",
       "    }\n",
       "\n",
       "    .dataframe tbody tr th {\n",
       "        vertical-align: top;\n",
       "    }\n",
       "\n",
       "    .dataframe thead th {\n",
       "        text-align: right;\n",
       "    }\n",
       "</style>\n",
       "<table border=\"1\" class=\"dataframe\">\n",
       "  <thead>\n",
       "    <tr style=\"text-align: right;\">\n",
       "      <th></th>\n",
       "      <th>review_id</th>\n",
       "      <th>star_rating</th>\n",
       "      <th>helpful_votes</th>\n",
       "      <th>total_votes</th>\n",
       "      <th>vine</th>\n",
       "      <th>verified_purchase</th>\n",
       "    </tr>\n",
       "  </thead>\n",
       "  <tbody>\n",
       "    <tr>\n",
       "      <th>15</th>\n",
       "      <td>RYQ1DA2DLM317</td>\n",
       "      <td>3.0</td>\n",
       "      <td>16.0</td>\n",
       "      <td>20.0</td>\n",
       "      <td>N</td>\n",
       "      <td>N</td>\n",
       "    </tr>\n",
       "    <tr>\n",
       "      <th>33</th>\n",
       "      <td>R370HMS192JCS4</td>\n",
       "      <td>5.0</td>\n",
       "      <td>27.0</td>\n",
       "      <td>28.0</td>\n",
       "      <td>N</td>\n",
       "      <td>N</td>\n",
       "    </tr>\n",
       "    <tr>\n",
       "      <th>34</th>\n",
       "      <td>R2WQFN3ISS99J6</td>\n",
       "      <td>5.0</td>\n",
       "      <td>23.0</td>\n",
       "      <td>24.0</td>\n",
       "      <td>N</td>\n",
       "      <td>N</td>\n",
       "    </tr>\n",
       "    <tr>\n",
       "      <th>36</th>\n",
       "      <td>R1F4T7XR41ON6Q</td>\n",
       "      <td>5.0</td>\n",
       "      <td>16.0</td>\n",
       "      <td>31.0</td>\n",
       "      <td>N</td>\n",
       "      <td>N</td>\n",
       "    </tr>\n",
       "    <tr>\n",
       "      <th>37</th>\n",
       "      <td>RJOVS4SL7P3QJ</td>\n",
       "      <td>5.0</td>\n",
       "      <td>146.0</td>\n",
       "      <td>157.0</td>\n",
       "      <td>N</td>\n",
       "      <td>N</td>\n",
       "    </tr>\n",
       "    <tr>\n",
       "      <th>...</th>\n",
       "      <td>...</td>\n",
       "      <td>...</td>\n",
       "      <td>...</td>\n",
       "      <td>...</td>\n",
       "      <td>...</td>\n",
       "      <td>...</td>\n",
       "    </tr>\n",
       "    <tr>\n",
       "      <th>3105460</th>\n",
       "      <td>R6WB9UFPT6UNM</td>\n",
       "      <td>5.0</td>\n",
       "      <td>28.0</td>\n",
       "      <td>34.0</td>\n",
       "      <td>N</td>\n",
       "      <td>N</td>\n",
       "    </tr>\n",
       "    <tr>\n",
       "      <th>3105477</th>\n",
       "      <td>R2WPLMMXFO81CP</td>\n",
       "      <td>1.0</td>\n",
       "      <td>52.0</td>\n",
       "      <td>62.0</td>\n",
       "      <td>N</td>\n",
       "      <td>N</td>\n",
       "    </tr>\n",
       "    <tr>\n",
       "      <th>3105488</th>\n",
       "      <td>R11W2XGJGYWH22</td>\n",
       "      <td>5.0</td>\n",
       "      <td>24.0</td>\n",
       "      <td>25.0</td>\n",
       "      <td>N</td>\n",
       "      <td>Y</td>\n",
       "    </tr>\n",
       "    <tr>\n",
       "      <th>3105495</th>\n",
       "      <td>ROSJIJI86HZA</td>\n",
       "      <td>5.0</td>\n",
       "      <td>68.0</td>\n",
       "      <td>68.0</td>\n",
       "      <td>N</td>\n",
       "      <td>N</td>\n",
       "    </tr>\n",
       "    <tr>\n",
       "      <th>3105506</th>\n",
       "      <td>R6TRDKVADH3SB</td>\n",
       "      <td>4.0</td>\n",
       "      <td>19.0</td>\n",
       "      <td>20.0</td>\n",
       "      <td>N</td>\n",
       "      <td>N</td>\n",
       "    </tr>\n",
       "  </tbody>\n",
       "</table>\n",
       "<p>403807 rows × 6 columns</p>\n",
       "</div>"
      ],
      "text/plain": [
       "              review_id  star_rating  helpful_votes  total_votes vine  \\\n",
       "15        RYQ1DA2DLM317          3.0           16.0         20.0    N   \n",
       "33       R370HMS192JCS4          5.0           27.0         28.0    N   \n",
       "34       R2WQFN3ISS99J6          5.0           23.0         24.0    N   \n",
       "36       R1F4T7XR41ON6Q          5.0           16.0         31.0    N   \n",
       "37        RJOVS4SL7P3QJ          5.0          146.0        157.0    N   \n",
       "...                 ...          ...            ...          ...  ...   \n",
       "3105460   R6WB9UFPT6UNM          5.0           28.0         34.0    N   \n",
       "3105477  R2WPLMMXFO81CP          1.0           52.0         62.0    N   \n",
       "3105488  R11W2XGJGYWH22          5.0           24.0         25.0    N   \n",
       "3105495    ROSJIJI86HZA          5.0           68.0         68.0    N   \n",
       "3105506   R6TRDKVADH3SB          4.0           19.0         20.0    N   \n",
       "\n",
       "        verified_purchase  \n",
       "15                      N  \n",
       "33                      N  \n",
       "34                      N  \n",
       "36                      N  \n",
       "37                      N  \n",
       "...                   ...  \n",
       "3105460                 N  \n",
       "3105477                 N  \n",
       "3105488                 Y  \n",
       "3105495                 N  \n",
       "3105506                 N  \n",
       "\n",
       "[403807 rows x 6 columns]"
      ]
     },
     "execution_count": 41,
     "metadata": {},
     "output_type": "execute_result"
    }
   ],
   "source": [
    "fifty_percent_helpful_df"
   ]
  },
  {
   "cell_type": "code",
   "execution_count": 40,
   "id": "72fb7656",
   "metadata": {},
   "outputs": [
    {
     "data": {
      "text/html": [
       "<div>\n",
       "<style scoped>\n",
       "    .dataframe tbody tr th:only-of-type {\n",
       "        vertical-align: middle;\n",
       "    }\n",
       "\n",
       "    .dataframe tbody tr th {\n",
       "        vertical-align: top;\n",
       "    }\n",
       "\n",
       "    .dataframe thead th {\n",
       "        text-align: right;\n",
       "    }\n",
       "</style>\n",
       "<table border=\"1\" class=\"dataframe\">\n",
       "  <thead>\n",
       "    <tr style=\"text-align: right;\">\n",
       "      <th></th>\n",
       "      <th>review_id</th>\n",
       "      <th>star_rating</th>\n",
       "      <th>helpful_votes</th>\n",
       "      <th>total_votes</th>\n",
       "      <th>vine</th>\n",
       "      <th>verified_purchase</th>\n",
       "    </tr>\n",
       "  </thead>\n",
       "  <tbody>\n",
       "  </tbody>\n",
       "</table>\n",
       "</div>"
      ],
      "text/plain": [
       "Empty DataFrame\n",
       "Columns: [review_id, star_rating, helpful_votes, total_votes, vine, verified_purchase]\n",
       "Index: []"
      ]
     },
     "execution_count": 40,
     "metadata": {},
     "output_type": "execute_result"
    }
   ],
   "source": [
    "# 3. filter df from step 2 to retrieve only rows who are part of the Vine program (paid) \n",
    "vine_paid_program_df = fifty_percent_helpful_df[fifty_percent_helpful_df[\"vine\"] == \"Y\"]\n",
    "vine_paid_program_df"
   ]
  },
  {
   "cell_type": "code",
   "execution_count": 39,
   "id": "e172a09c",
   "metadata": {},
   "outputs": [
    {
     "data": {
      "text/html": [
       "<div>\n",
       "<style scoped>\n",
       "    .dataframe tbody tr th:only-of-type {\n",
       "        vertical-align: middle;\n",
       "    }\n",
       "\n",
       "    .dataframe tbody tr th {\n",
       "        vertical-align: top;\n",
       "    }\n",
       "\n",
       "    .dataframe thead th {\n",
       "        text-align: right;\n",
       "    }\n",
       "</style>\n",
       "<table border=\"1\" class=\"dataframe\">\n",
       "  <thead>\n",
       "    <tr style=\"text-align: right;\">\n",
       "      <th></th>\n",
       "      <th>review_id</th>\n",
       "      <th>star_rating</th>\n",
       "      <th>helpful_votes</th>\n",
       "      <th>total_votes</th>\n",
       "      <th>vine</th>\n",
       "      <th>verified_purchase</th>\n",
       "    </tr>\n",
       "  </thead>\n",
       "  <tbody>\n",
       "    <tr>\n",
       "      <th>15</th>\n",
       "      <td>RYQ1DA2DLM317</td>\n",
       "      <td>3.0</td>\n",
       "      <td>16.0</td>\n",
       "      <td>20.0</td>\n",
       "      <td>N</td>\n",
       "      <td>N</td>\n",
       "    </tr>\n",
       "    <tr>\n",
       "      <th>33</th>\n",
       "      <td>R370HMS192JCS4</td>\n",
       "      <td>5.0</td>\n",
       "      <td>27.0</td>\n",
       "      <td>28.0</td>\n",
       "      <td>N</td>\n",
       "      <td>N</td>\n",
       "    </tr>\n",
       "    <tr>\n",
       "      <th>34</th>\n",
       "      <td>R2WQFN3ISS99J6</td>\n",
       "      <td>5.0</td>\n",
       "      <td>23.0</td>\n",
       "      <td>24.0</td>\n",
       "      <td>N</td>\n",
       "      <td>N</td>\n",
       "    </tr>\n",
       "    <tr>\n",
       "      <th>36</th>\n",
       "      <td>R1F4T7XR41ON6Q</td>\n",
       "      <td>5.0</td>\n",
       "      <td>16.0</td>\n",
       "      <td>31.0</td>\n",
       "      <td>N</td>\n",
       "      <td>N</td>\n",
       "    </tr>\n",
       "    <tr>\n",
       "      <th>37</th>\n",
       "      <td>RJOVS4SL7P3QJ</td>\n",
       "      <td>5.0</td>\n",
       "      <td>146.0</td>\n",
       "      <td>157.0</td>\n",
       "      <td>N</td>\n",
       "      <td>N</td>\n",
       "    </tr>\n",
       "    <tr>\n",
       "      <th>...</th>\n",
       "      <td>...</td>\n",
       "      <td>...</td>\n",
       "      <td>...</td>\n",
       "      <td>...</td>\n",
       "      <td>...</td>\n",
       "      <td>...</td>\n",
       "    </tr>\n",
       "    <tr>\n",
       "      <th>3105460</th>\n",
       "      <td>R6WB9UFPT6UNM</td>\n",
       "      <td>5.0</td>\n",
       "      <td>28.0</td>\n",
       "      <td>34.0</td>\n",
       "      <td>N</td>\n",
       "      <td>N</td>\n",
       "    </tr>\n",
       "    <tr>\n",
       "      <th>3105477</th>\n",
       "      <td>R2WPLMMXFO81CP</td>\n",
       "      <td>1.0</td>\n",
       "      <td>52.0</td>\n",
       "      <td>62.0</td>\n",
       "      <td>N</td>\n",
       "      <td>N</td>\n",
       "    </tr>\n",
       "    <tr>\n",
       "      <th>3105488</th>\n",
       "      <td>R11W2XGJGYWH22</td>\n",
       "      <td>5.0</td>\n",
       "      <td>24.0</td>\n",
       "      <td>25.0</td>\n",
       "      <td>N</td>\n",
       "      <td>Y</td>\n",
       "    </tr>\n",
       "    <tr>\n",
       "      <th>3105495</th>\n",
       "      <td>ROSJIJI86HZA</td>\n",
       "      <td>5.0</td>\n",
       "      <td>68.0</td>\n",
       "      <td>68.0</td>\n",
       "      <td>N</td>\n",
       "      <td>N</td>\n",
       "    </tr>\n",
       "    <tr>\n",
       "      <th>3105506</th>\n",
       "      <td>R6TRDKVADH3SB</td>\n",
       "      <td>4.0</td>\n",
       "      <td>19.0</td>\n",
       "      <td>20.0</td>\n",
       "      <td>N</td>\n",
       "      <td>N</td>\n",
       "    </tr>\n",
       "  </tbody>\n",
       "</table>\n",
       "<p>403807 rows × 6 columns</p>\n",
       "</div>"
      ],
      "text/plain": [
       "              review_id  star_rating  helpful_votes  total_votes vine  \\\n",
       "15        RYQ1DA2DLM317          3.0           16.0         20.0    N   \n",
       "33       R370HMS192JCS4          5.0           27.0         28.0    N   \n",
       "34       R2WQFN3ISS99J6          5.0           23.0         24.0    N   \n",
       "36       R1F4T7XR41ON6Q          5.0           16.0         31.0    N   \n",
       "37        RJOVS4SL7P3QJ          5.0          146.0        157.0    N   \n",
       "...                 ...          ...            ...          ...  ...   \n",
       "3105460   R6WB9UFPT6UNM          5.0           28.0         34.0    N   \n",
       "3105477  R2WPLMMXFO81CP          1.0           52.0         62.0    N   \n",
       "3105488  R11W2XGJGYWH22          5.0           24.0         25.0    N   \n",
       "3105495    ROSJIJI86HZA          5.0           68.0         68.0    N   \n",
       "3105506   R6TRDKVADH3SB          4.0           19.0         20.0    N   \n",
       "\n",
       "        verified_purchase  \n",
       "15                      N  \n",
       "33                      N  \n",
       "34                      N  \n",
       "36                      N  \n",
       "37                      N  \n",
       "...                   ...  \n",
       "3105460                 N  \n",
       "3105477                 N  \n",
       "3105488                 Y  \n",
       "3105495                 N  \n",
       "3105506                 N  \n",
       "\n",
       "[403807 rows x 6 columns]"
      ]
     },
     "execution_count": 39,
     "metadata": {},
     "output_type": "execute_result"
    }
   ],
   "source": [
    "# 4. filter df from step 2 to retrieve only rows who are not part of the Vine program (unpaid)\n",
    "unpaid_program_df = fifty_percent_helpful_df[fifty_percent_helpful_df[\"vine\"] == \"N\"]\n",
    "unpaid_program_df"
   ]
  },
  {
   "cell_type": "code",
   "execution_count": null,
   "id": "29d933ed",
   "metadata": {},
   "outputs": [],
   "source": [
    "# Determine the total number of reviews, the number of 5-star reviews, \n",
    "# and the percentage of 5-star reviews for the two types of review (paid vs unpaid)."
   ]
  },
  {
   "cell_type": "code",
   "execution_count": 24,
   "id": "54bb735a",
   "metadata": {},
   "outputs": [
    {
     "data": {
      "text/plain": [
       "0"
      ]
     },
     "execution_count": 24,
     "metadata": {},
     "output_type": "execute_result"
    }
   ],
   "source": [
    "# total number of paid reviews\n",
    "total_paid_reviews = len(vine_paid_program_df)\n",
    "total_paid_reviews"
   ]
  },
  {
   "cell_type": "code",
   "execution_count": 25,
   "id": "aabc7e8d",
   "metadata": {},
   "outputs": [
    {
     "data": {
      "text/plain": [
       "403807"
      ]
     },
     "execution_count": 25,
     "metadata": {},
     "output_type": "execute_result"
    }
   ],
   "source": [
    "# total number of unpaid reviews\n",
    "total_unpaid_reviews = len(unpaid_program_df)\n",
    "total_unpaid_reviews"
   ]
  },
  {
   "cell_type": "code",
   "execution_count": 34,
   "id": "e4bd684a",
   "metadata": {},
   "outputs": [
    {
     "data": {
      "text/plain": [
       "0"
      ]
     },
     "execution_count": 34,
     "metadata": {},
     "output_type": "execute_result"
    }
   ],
   "source": [
    "# total number of paid 5-star reviews\n",
    "total_paid_five_star = len(vine_paid_program_df[vine_paid_program_df[\"star_rating\"] == 5.0])\n",
    "total_paid_five_star"
   ]
  },
  {
   "cell_type": "code",
   "execution_count": 33,
   "id": "5c187e09",
   "metadata": {},
   "outputs": [
    {
     "data": {
      "text/plain": [
       "242889"
      ]
     },
     "execution_count": 33,
     "metadata": {},
     "output_type": "execute_result"
    }
   ],
   "source": [
    "# total number of unpaid 5-start reviews\n",
    "total_unpaid_five_star = len(unpaid_program_df[unpaid_program_df[\"star_rating\"] == 5.0])\n",
    "total_unpaid_five_star"
   ]
  },
  {
   "cell_type": "code",
   "execution_count": 35,
   "id": "c92b9ef5",
   "metadata": {},
   "outputs": [
    {
     "ename": "ZeroDivisionError",
     "evalue": "division by zero",
     "output_type": "error",
     "traceback": [
      "\u001b[0;31m---------------------------------------------------------------------------\u001b[0m",
      "\u001b[0;31mZeroDivisionError\u001b[0m                         Traceback (most recent call last)",
      "\u001b[0;32m<ipython-input-35-9288a6808170>\u001b[0m in \u001b[0;36m<module>\u001b[0;34m\u001b[0m\n\u001b[1;32m      1\u001b[0m \u001b[0;31m# percentage of 5-star paid reviews\u001b[0m\u001b[0;34m\u001b[0m\u001b[0;34m\u001b[0m\u001b[0;34m\u001b[0m\u001b[0m\n\u001b[0;32m----> 2\u001b[0;31m \u001b[0mpercentage_paid_reviews\u001b[0m \u001b[0;34m=\u001b[0m \u001b[0;34m(\u001b[0m\u001b[0mtotal_paid_five_star\u001b[0m\u001b[0;34m/\u001b[0m\u001b[0mtotal_paid_reviews\u001b[0m\u001b[0;34m)\u001b[0m\u001b[0;34m*\u001b[0m\u001b[0;36m100\u001b[0m\u001b[0;34m\u001b[0m\u001b[0;34m\u001b[0m\u001b[0m\n\u001b[0m\u001b[1;32m      3\u001b[0m \u001b[0mpercentage_paid_reviews\u001b[0m\u001b[0;34m\u001b[0m\u001b[0;34m\u001b[0m\u001b[0m\n",
      "\u001b[0;31mZeroDivisionError\u001b[0m: division by zero"
     ]
    }
   ],
   "source": [
    "# percentage of 5-star paid reviews \n",
    "percentage_paid_reviews = (total_paid_five_star/total_paid_reviews)*100\n",
    "percentage_paid_reviews "
   ]
  },
  {
   "cell_type": "markdown",
   "id": "55532a1e",
   "metadata": {},
   "source": [
    "##### There are no paid reviews; therefore, an error occurred. Cell above is equal to 0."
   ]
  },
  {
   "cell_type": "code",
   "execution_count": 38,
   "id": "1947eff1",
   "metadata": {},
   "outputs": [
    {
     "data": {
      "text/plain": [
       "60.14977452099642"
      ]
     },
     "execution_count": 38,
     "metadata": {},
     "output_type": "execute_result"
    }
   ],
   "source": [
    "# perecentage of 5-star unpaid reviews\n",
    "percentage_unpaid_reviews = (total_unpaid_five_star/total_unpaid_reviews)*100\n",
    "percentage_unpaid_reviews "
   ]
  },
  {
   "cell_type": "code",
   "execution_count": null,
   "id": "2fa09a6c",
   "metadata": {},
   "outputs": [],
   "source": []
  }
 ],
 "metadata": {
  "kernelspec": {
   "display_name": "Python 3",
   "language": "python",
   "name": "python3"
  },
  "language_info": {
   "codemirror_mode": {
    "name": "ipython",
    "version": 3
   },
   "file_extension": ".py",
   "mimetype": "text/x-python",
   "name": "python",
   "nbconvert_exporter": "python",
   "pygments_lexer": "ipython3",
   "version": "3.8.8"
  }
 },
 "nbformat": 4,
 "nbformat_minor": 5
}
